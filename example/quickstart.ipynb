{
  "cells": [
    {
      "cell_type": "markdown",
      "metadata": {},
      "source": [
        "# Crimson Folder Watcher - Quick Example\n",
        "\n",
        "A simple demonstration of the folder watcher functionality."
      ]
    },
    {
      "cell_type": "markdown",
      "metadata": {},
      "source": [
        "## Setup\n",
        "\n",
        "The example files are already prepared in the `./source` directory:\n",
        "- [my_post.md](./source/my_post.md) - A markdown file\n",
        "- [any_script.py](./source/any_script.py) - A Python script"
      ]
    },
    {
      "cell_type": "code",
      "execution_count": 1,
      "metadata": {},
      "outputs": [],
      "source": [
        "from crimson.folder_watcher import create_watcher\n",
        "import re\n",
        "\n",
        "# Create watcher\n",
        "watcher = create_watcher(\n",
        "    source_dir=\"./source\", \n",
        "    output_dir=\"./output\",\n",
        "    include=[\"*.py\", \"*.md\"],\n",
        "    exclude=[\"*_test.py\"],\n",
        "    process_existing=False,\n",
        "    auto_start=False\n",
        ")"
      ]
    },
    {
      "cell_type": "code",
      "execution_count": 2,
      "metadata": {},
      "outputs": [],
      "source": [
        "# Register Python file editor - add timestamp\n",
        "def add_timestamp_to_python(src_path, content):\n",
        "    import datetime\n",
        "    timestamp = datetime.datetime.now().strftime(\"# Last modified: %Y-%m-%d %H:%M:%S\\n\")\n",
        "    \n",
        "    if \"# Last modified:\" in content.split(\"\\n\")[0]:\n",
        "        lines = content.split(\"\\n\")\n",
        "        lines[0] = timestamp.strip()\n",
        "        return \"\\n\".join(lines)\n",
        "    else:\n",
        "        return timestamp + content\n",
        "\n",
        "watcher.register_editor(\"*.py\", add_timestamp_to_python)"
      ]
    },
    {
      "cell_type": "code",
      "execution_count": 3,
      "metadata": {},
      "outputs": [],
      "source": [
        "# Register Markdown file editor - convert to stories\n",
        "def md_to_story_editor(src_path, content):\n",
        "    titlePrefix = 'AutoPost'\n",
        "    componentPath = '../components/Page'\n",
        "    postPath = '../../post' \n",
        "\n",
        "    path_parts = src_path.split('/')\n",
        "    file_name = path_parts[-1].replace('.md', '')\n",
        "    normalized_file_name = re.sub(r'[^a-zA-Z0-9]', '_', file_name)\n",
        "    title_path = '/'.join([titlePrefix] + path_parts[:-1])\n",
        "    md_path = postPath + src_path\n",
        "\n",
        "    story_content = f\"\"\"\n",
        "// Auto-generated story file for {src_path}\n",
        "import React from 'react';\n",
        "import {{ Page }} from '{componentPath}';\n",
        "import markdownContent from '{md_path}?raw';\n",
        "\n",
        "export default {{\n",
        "    title: '{title_path}',\n",
        "    parameters: {{}},\n",
        "}};\n",
        "\n",
        "export const {normalized_file_name} = () => {{\n",
        "    return Page(markdownContent);\n",
        "}};\n",
        "\"\"\"\n",
        "\n",
        "    return story_content, src_path.replace('.md', '.stories.tsx')\n",
        "\n",
        "watcher.register_editor(\"*.md\", md_to_story_editor)"
      ]
    },
    {
      "cell_type": "code",
      "execution_count": 4,
      "metadata": {},
      "outputs": [
        {
          "name": "stdout",
          "output_type": "stream",
          "text": [
            "Watching './source' for changes...\n"
          ]
        }
      ],
      "source": [
        "# Start watching\n",
        "watcher.start()"
      ]
    },
    {
      "cell_type": "code",
      "execution_count": 5,
      "metadata": {},
      "outputs": [
        {
          "name": "stdout",
          "output_type": "stream",
          "text": [
            "Processing existing files...\n",
            "Edited and saved './source/my_post.md' to './output/my_post.stories.tsx'\n",
            "Edited and saved './source/any_script.py' to './output/any_script.py'\n",
            "Processed 2 existing files.\n"
          ]
        }
      ],
      "source": [
        "# Process existing files\n",
        "watcher.process_existing_files()"
      ]
    },
    {
      "cell_type": "markdown",
      "metadata": {},
      "source": [
        "The watcher is now monitoring files. Any changes to `.py` or `.md` files in the source directory will be automatically processed according to our registered editors."
      ]
    },
    {
      "cell_type": "code",
      "execution_count": 6,
      "metadata": {},
      "outputs": [
        {
          "name": "stdout",
          "output_type": "stream",
          "text": [
            "Stopped watching for changes.\n"
          ]
        }
      ],
      "source": [
        "# Stop watching when done\n",
        "watcher.stop()"
      ]
    },
    {
      "cell_type": "markdown",
      "metadata": {},
      "source": [
        "## Results\n",
        "\n",
        "Check the output files:\n",
        "- [any_script.py](./output/any_script.py) - Python file with timestamp added\n",
        "- [my_post.stories.tsx](./output/my_post.stories.tsx) - Markdown converted to Storybook story"
      ]
    }
  ],
  "metadata": {
    "kernelspec": {
      "display_name": "Python 3",
      "language": "python",
      "name": "python3"
    },
    "language_info": {
      "codemirror_mode": {
        "name": "ipython",
        "version": 3
      },
      "file_extension": ".py",
      "mimetype": "text/x-python",
      "name": "python",
      "nbconvert_exporter": "python",
      "pygments_lexer": "ipython3",
      "version": "3.10.16"
    }
  },
  "nbformat": 4,
  "nbformat_minor": 4
}
