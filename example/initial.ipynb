{
 "cells": [
  {
   "cell_type": "code",
   "execution_count": null,
   "metadata": {},
   "outputs": [],
   "source": [
    "from crimson.folder_watcher import create_watcher\n",
    "import re\n",
    "\n",
    "\n",
    "# Basic usage - simple file copying\n",
    "watcher = create_watcher(\n",
    "    source_dir=\"./source\", \n",
    "    output_dir=\"./output\",\n",
    "    include=[\"*.py\", \"*.md\"],   # Only process Python and markdown files\n",
    "    exclude=[\"*_test.py\"],      # Exclude test files\n",
    "    process_existing=False,     # Don't process existing files\n",
    "    auto_start=False            # Don't start immediately\n",
    ")\n",
    "\n",
    "# Example file editor registration\n",
    "def add_timestamp_to_python(src_path, content):\n",
    "    \"\"\"Add timestamp to the top of Python files\"\"\"\n",
    "    import datetime\n",
    "    timestamp = datetime.datetime.now().strftime(\"# Last modified: %Y-%m-%d %H:%M:%S\\n\")\n",
    "    \n",
    "    # Check if timestamp already exists\n",
    "    if \"# Last modified:\" in content.split(\"\\n\")[0]:\n",
    "        # Replace first line\n",
    "        lines = content.split(\"\\n\")\n",
    "        lines[0] = timestamp.strip()\n",
    "        return \"\\n\".join(lines)\n",
    "    else:\n",
    "        # Add to top of file\n",
    "        return timestamp + content\n",
    "\n",
    "# Register editor for all Python files to add timestamp\n",
    "watcher.register_editor(\"*.py\", add_timestamp_to_python)\n",
    "\n",
    "\n",
    "def md_to_story_editor(src_path: str, content: str):\n",
    "    # Generate storybook file content based on markdown file path\n",
    "    # File content is not actually used but needed to maintain interface\n",
    "\n",
    "    titlePrefix = 'AutoPost'\n",
    "    componentPath = '../components/Page'\n",
    "    postPath = '../../post' \n",
    "\n",
    "    path_parts = src_path.split('/')\n",
    "    file_name = path_parts[-1].replace('.md', '')\n",
    "    normalized_file_name = re.sub(r'[^a-zA-Z0-9]', '_', file_name)\n",
    "    title_path = '/'.join([titlePrefix] + path_parts[:-1])\n",
    "    md_path = postPath + src_path\n",
    "\n",
    "    # Generate storybook file content\n",
    "    story_content = f\"\"\"\n",
    "// Auto-generated story file for {src_path}\n",
    "import React from 'react';\n",
    "import {{ Page }} from '{componentPath}';\n",
    "import markdownContent from '{md_path}?raw';\n",
    "\n",
    "export default {{\n",
    "    title: '{title_path}',\n",
    "    parameters: {{}},\n",
    "}};\n",
    "\n",
    "export const {normalized_file_name} = () => {{\n",
    "    return Page(markdownContent);\n",
    "}};\n",
    "\"\"\"\n",
    "\n",
    "    return story_content, src_path.replace('.md', '.stories.tsx')\n",
    "\n",
    "# Register editor for markdown files to convert them to stories\n",
    "watcher.register_editor(\"*.md\", md_to_story_editor)"
   ]
  },
  {
   "cell_type": "code",
   "execution_count": 2,
   "metadata": {},
   "outputs": [
    {
     "name": "stdout",
     "output_type": "stream",
     "text": [
      "Watching './source' for changes...\n"
     ]
    }
   ],
   "source": [
    "watcher.start()\n"
   ]
  },
  {
   "cell_type": "code",
   "execution_count": 3,
   "metadata": {},
   "outputs": [
    {
     "name": "stdout",
     "output_type": "stream",
     "text": [
      "Processing existing files...\n",
      "Edited and saved './source/my_post.md' to './output/my_post.stories.tsx'\n",
      "Edited and saved './source/any_script.py' to './output/any_script.py'\n",
      "Processed 2 existing files.\n"
     ]
    }
   ],
   "source": [
    "watcher.process_existing_files()"
   ]
  },
  {
   "cell_type": "code",
   "execution_count": 4,
   "metadata": {},
   "outputs": [
    {
     "name": "stdout",
     "output_type": "stream",
     "text": [
      "Stopped watching for changes.\n"
     ]
    }
   ],
   "source": [
    "watcher.stop()"
   ]
  },
  {
   "cell_type": "markdown",
   "metadata": {},
   "source": [
    "Check the result\n",
    "\n",
    "Source files:\n",
    "- [my_post.md](./source/my_post.md)\n",
    "- [any_script.py](./source/any_script.py)\n",
    "\n",
    "Output files:\n",
    "- [my_post.stories.tsx](./output/my_post.stories.tsx)\n",
    "- [any_script.py](./output/any_script.py)"
   ]
  }
 ],
 "metadata": {
  "kernelspec": {
   "display_name": "folder-watcher",
   "language": "python",
   "name": "python3"
  },
  "language_info": {
   "codemirror_mode": {
    "name": "ipython",
    "version": 3
   },
   "file_extension": ".py",
   "mimetype": "text/x-python",
   "name": "python",
   "nbconvert_exporter": "python",
   "pygments_lexer": "ipython3",
   "version": "3.10.16"
  }
 },
 "nbformat": 4,
 "nbformat_minor": 2
}
